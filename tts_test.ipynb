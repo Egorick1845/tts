{
 "cells": [
  {
   "attachments": {},
   "cell_type": "markdown",
   "metadata": {},
   "source": [
    "Установка зависимостей"
   ]
  },
  {
   "cell_type": "code",
   "execution_count": null,
   "metadata": {},
   "outputs": [],
   "source": [
    "!pip3.9 install -r ./requirements.txt --extra-index-url https://download.pytorch.org/whl/cu116"
   ]
  },
  {
   "attachments": {},
   "cell_type": "markdown",
   "metadata": {},
   "source": [
    "Прослушивание новых после генерации голосов"
   ]
  },
  {
   "cell_type": "code",
   "execution_count": 2,
   "metadata": {
    "ExecuteTime": {
     "end_time": "2023-05-11T15:11:08.579150100Z",
     "start_time": "2023-05-11T15:11:08.096535500Z"
    }
   },
   "outputs": [
    {
     "name": "stdout",
     "output_type": "stream",
     "text": [
      "Loaded voice from E:\\RiderProjects\\ss14-tts-api/voices/tmp\\Voice1.pt\n",
      "speaker tmp\\Voice1.pt\n"
     ]
    },
    {
     "data": {
      "text/plain": "<IPython.lib.display.Audio object>",
      "text/html": "\n                <audio  controls=\"controls\" >\n                    <source src=\"data:audio/wav;base64,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\" type=\"audio/wav\" />\n                    Your browser does not support the audio element.\n                </audio>\n              "
     },
     "metadata": {},
     "output_type": "display_data"
    },
    {
     "name": "stdout",
     "output_type": "stream",
     "text": [
      "Loaded voice from E:\\RiderProjects\\ss14-tts-api/voices/tmp\\Voice10.pt\n",
      "speaker tmp\\Voice10.pt\n"
     ]
    },
    {
     "data": {
      "text/plain": "<IPython.lib.display.Audio object>",
      "text/html": "\n                <audio  controls=\"controls\" >\n                    <source src=\"data:audio/wav;base64,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\" type=\"audio/wav\" />\n                    Your browser does not support the audio element.\n                </audio>\n              "
     },
     "metadata": {},
     "output_type": "display_data"
    },
    {
     "name": "stdout",
     "output_type": "stream",
     "text": [
      "Loaded voice from E:\\RiderProjects\\ss14-tts-api/voices/tmp\\Voice11.pt\n",
      "speaker tmp\\Voice11.pt\n"
     ]
    },
    {
     "data": {
      "text/plain": "<IPython.lib.display.Audio object>",
      "text/html": "\n                <audio  controls=\"controls\" >\n                    <source src=\"data:audio/wav;base64,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\" type=\"audio/wav\" />\n                    Your browser does not support the audio element.\n                </audio>\n              "
     },
     "metadata": {},
     "output_type": "display_data"
    },
    {
     "name": "stdout",
     "output_type": "stream",
     "text": [
      "Loaded voice from E:\\RiderProjects\\ss14-tts-api/voices/tmp\\Voice12.pt\n",
      "speaker tmp\\Voice12.pt\n"
     ]
    },
    {
     "data": {
      "text/plain": "<IPython.lib.display.Audio object>",
      "text/html": "\n                <audio  controls=\"controls\" >\n                    <source src=\"data:audio/wav;base64,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\" type=\"audio/wav\" />\n                    Your browser does not support the audio element.\n                </audio>\n              "
     },
     "metadata": {},
     "output_type": "display_data"
    },
    {
     "name": "stdout",
     "output_type": "stream",
     "text": [
      "Loaded voice from E:\\RiderProjects\\ss14-tts-api/voices/tmp\\Voice13.pt\n",
      "speaker tmp\\Voice13.pt\n"
     ]
    },
    {
     "data": {
      "text/plain": "<IPython.lib.display.Audio object>",
      "text/html": "\n                <audio  controls=\"controls\" >\n                    <source src=\"data:audio/wav;base64,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\" type=\"audio/wav\" />\n                    Your browser does not support the audio element.\n                </audio>\n              "
     },
     "metadata": {},
     "output_type": "display_data"
    },
    {
     "name": "stdout",
     "output_type": "stream",
     "text": [
      "Loaded voice from E:\\RiderProjects\\ss14-tts-api/voices/tmp\\Voice14.pt\n",
      "speaker tmp\\Voice14.pt\n"
     ]
    },
    {
     "data": {
      "text/plain": "<IPython.lib.display.Audio object>",
      "text/html": "\n                <audio  controls=\"controls\" >\n                    <source src=\"data:audio/wav;base64,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\" type=\"audio/wav\" />\n                    Your browser does not support the audio element.\n                </audio>\n              "
     },
     "metadata": {},
     "output_type": "display_data"
    },
    {
     "name": "stdout",
     "output_type": "stream",
     "text": [
      "Loaded voice from E:\\RiderProjects\\ss14-tts-api/voices/tmp\\Voice15.pt\n",
      "speaker tmp\\Voice15.pt\n"
     ]
    },
    {
     "data": {
      "text/plain": "<IPython.lib.display.Audio object>",
      "text/html": "\n                <audio  controls=\"controls\" >\n                    <source src=\"data:audio/wav;base64,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\" type=\"audio/wav\" />\n                    Your browser does not support the audio element.\n                </audio>\n              "
     },
     "metadata": {},
     "output_type": "display_data"
    },
    {
     "name": "stdout",
     "output_type": "stream",
     "text": [
      "Loaded voice from E:\\RiderProjects\\ss14-tts-api/voices/tmp\\Voice16.pt\n",
      "speaker tmp\\Voice16.pt\n"
     ]
    },
    {
     "data": {
      "text/plain": "<IPython.lib.display.Audio object>",
      "text/html": "\n                <audio  controls=\"controls\" >\n                    <source src=\"data:audio/wav;base64,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\" type=\"audio/wav\" />\n                    Your browser does not support the audio element.\n                </audio>\n              "
     },
     "metadata": {},
     "output_type": "display_data"
    },
    {
     "name": "stdout",
     "output_type": "stream",
     "text": [
      "Loaded voice from E:\\RiderProjects\\ss14-tts-api/voices/tmp\\Voice17.pt\n",
      "speaker tmp\\Voice17.pt\n"
     ]
    },
    {
     "data": {
      "text/plain": "<IPython.lib.display.Audio object>",
      "text/html": "\n                <audio  controls=\"controls\" >\n                    <source src=\"data:audio/wav;base64,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\" type=\"audio/wav\" />\n                    Your browser does not support the audio element.\n                </audio>\n              "
     },
     "metadata": {},
     "output_type": "display_data"
    },
    {
     "name": "stdout",
     "output_type": "stream",
     "text": [
      "Loaded voice from E:\\RiderProjects\\ss14-tts-api/voices/tmp\\Voice18.pt\n",
      "speaker tmp\\Voice18.pt\n"
     ]
    },
    {
     "data": {
      "text/plain": "<IPython.lib.display.Audio object>",
      "text/html": "\n                <audio  controls=\"controls\" >\n                    <source src=\"data:audio/wav;base64,UklGRoQJAABXQVZFZm10IBAAAAABAAEAwF0AAIC7AAACABAAZGF0YWAJAAAaC2ASOBClEWgQdg0nDzMMlwxBC9EKPgprCYAH9QWGBIYCwgCDACsB2gDYAHkAwv1h+kP7IPuj+Tn53PfV9g334PaL9qz1ofRu9WP0C/XL9MfzffRY9L/0l/SP9JT0JfSl9tf36ffL+Gr4D/jK9uT3SPl9+nL7WP30/AX8CvyP++38XgBSCHAKOQkYBlkB3/7/AOkH6Q3yEcgQCxBrC30J3QrvDHMR+BNnFYkS2RDAEPcQ+hGAFK8WFhgRFCQTlxWCFlkaTxu8HAYbWBgEGJMWlBTcFx8ZFBgUGzoZ+BdgF88UlBMKE9YTcBOoEYQPhA3iDNUNkAzbCTwHHAZ1BZwFqwVmA5EA8/3c+0H6YviH+L73CPXu82vzvvF47z3uAvDP8CLvUO2d7A7rEenk6hrqpuhP6R3qvOkX6Yrp6unL6YzqnOp97cztje2D8WDz+PNP9ej4XPlL/K4ARgW7BXwH+Qx5DhcTTBXOFrga2B1wIjMoqyvzLA4uMzAdM2E2tDi6O5M/rUGEQnJGNEkNSzZN/U0ETdVMLlD9UM1P1k/CURdRP05GTXZLz0nLSEhEMkAmQNc89jVqLqIndiFmG84UpAwcBQn9AvSN65Pkp91D1vjNpcSju0SyMavwpJygdpvXlpWTvI04iZuIB4jQhZ+GJokXi8SN2ZEFlX2Z8Z6UpQSqMK9quEe+S8UVz7HZCuJs6UvxC/aC/50KQBQTHmIlAytoMgU5Q0FBS0FSYVnSXexiWGcTbUN0WncoeQ98WX1Bfe1903+8fzp+/39XfY93YXS/cTFvX209a1ZnaWI7XgtaElbzU59Qa0suRktE6j+fOgo3EzSgMJMscilaJnEjdCCtG5EYmBbwEikQPQ1VCj8GXQI8/9/8G/so+IT0D/BX7NvpDOcn49bewdzb2trXO9Xl0hHQ28y4yRXHAMdMxmbHIMcFxovE0MDqv/PAe8TwxmLH0cVGxd3G9cpC0NTSlNVz11zYCNsU3+nk7Opg8APzSPbg+XX+ZwcQD/wWjhwTIiEkRyiZLU8z+zo3PH8+XUFxQlBIIFPBV9RXCldxVcRTd1dzXEhe2V4vW3FW4UwuRthHEUmCR2ZDwTX7KWkkICIXIe8eYBptD+4H6/9L+yb4/PMb7RPnGuFZ2JLTYtKi0O3MjcsJyMDFwcF+wDLAkL6Yv8m9Zbkvt7O3PLkPvXe+/rxVt4ixcK4psam1arhxt0ezt699sRC7iMPsytzKQclXzenQjNiv4hnmDOfD6IDtK/ep/SADPwMrBLAJYA4PFv0bwx+pJAcoRiimK5Iz7zfmPWtANDz1O4E6oD1bQbVChUmoR4xCCT9pOns+0EVITR1P90h0QG89JD98Q41IY0UMPdQ02jItMYUvyDG4K+wgJxmyFJgTwhOdFJwL8vzK9MDvVPD99TT1sO565mrcIdaO0TXTPtUl0XbQAc+JybHHIcYwxQXH2smZysTHSsY+whXCKca2yq/KnchYx7PEyszv1QrfLN7r1unS4M1l03zbQOFl4I7d/Nbv07vcyeSc7hLz2O4G6h3rh+638Uz6C/7A/Q/+UP6S/ZABAgyjEDARNxMdE0cKEwxvFeAbHiNFJowjcx0cHOIetyIdKGAtziwHKMomgypQK8kt9DA3MUst+yyIMnkwAS4yKPMimxlDGuoc4RxUGdwRbxCuBhoJ2A7pC60LtQfYAXH7jffF9/z1sPle94n0oPKA7TTzp/J28ffysfAy7Qzshe5+6mronekJ6e3rn+0V7PvpwuFy2onbldfh11jd3dQo0drMD8qGzpnQA9a51rLS9M97zNjMp9Lg0vXTPNVx0qXVyNqi3M7hw+F54dPjf+Hb6EvuXvOV+a387/3L+j/3Qfva//kCBgdSAg7/WPsQ+a/9dgQ8CxkTyRPaECsMQAaJBwcM+Q/SEScQZwt2C+QLMQslDgwTohSVFEER2g2WD2cPXhQ6FyoZUxrxFngURxGHF0sagBivGNgUzw8GDVANXg4gEhAXYBkAF6MRow/pD5wUEhpFHScY1Qr7AEb7TfyK/6oCEf+m/Hr77fa9+B37A/6e/hz8Jfk7+In0hvau9qTxZPGk6vzoPek76E3sUOw37pPsueZL7ADtfvKC+yfzFPEG5pzeH+Q75471sfhE83Xw6OkL6rvpXOqu7rDynPKm8gjykO0u6kXq1vBB9Yn6yP2i9X3w7fA89Cr5Y/v5+bv0T+487rDzR/kb/5L/8Px++mX1kPgU/crzwO/E7RjqZO108+P4dfcU9LD1xPjA+20GRwozBOYA8/sO+Un4pP5oArH/2wEf+RntTvEd9Hr4KQBlAXH5afOv+L75K/vr/mL95/V87/HxYPFW8er9Tvtk9RP4pvRP9aABFQdlAzYG/AGS/iD+OQieDt8NBBO6C4sE4v7VAzYMEg6wGOoWZg2JDYMQ9RP5FF8ZXROWCtAMTA6EEm4X+hcwETULGgnrBw4KQg/ZD9gJQQe5AsIA7AhMDJIN+gitAWj9SPiA+JX6i/Y19374gPP+8MbtGvIV9avy7vWc7czqzOuP6ITtjOYU44Tf79ti5wDu4/Ob83bqse2I5zDm3Ofx4sjiHeLR44zjqeLn5vrpuOpB70Ttd+/f6znkKt8E2SzgVurz7xbqWOW24xrlcvDh9qr4vvep8mrwGO+88DH4rPcG9/j8KPvJ+lH7g/py+pL2AvsZ+Ev0lfV09KH4pvq/Aq8IQguyC6wBCPjp9hcHphYdJOUinQ4qCboKcRSYIvYjKyAcGsURuBj9HV8gqi0UJnwh8h+4HTIvrjBoMd4uIx5LGNwYmh7+JhwjLxN2BfD61f+dC68QCBPdCQ0BxfoB9GL6b/+CAU0EWPs98eLtRvEd89fwQ+895bLi7eQN5M/tQuwk66Tsr+Gv4m3lmugk8tnwq+3C667lCeLd5przTvhG+VX2GPBT73jt2/P1+un6wP7e+2H48P6gAnsMXxH4DU8QQwdzArsHHwk3DWMPxgsyB80BpQNGDBoNag04C8wBpf69Ad8DhwOHAST+GvuA+v//sgNSAdIAvfxK+Ub2vPfT/IP9nf9j+2bzluz36vf5RAM3/7T4neps6Nnsv/D6+8j58fIG7H/jC+ag7077NQYXAw72wOoo6eH2of/VBbkHogYEBWT6//dg+E/0Svq3/gsAVwMc/8H5Av5H9ir1oPiU8uHw7Pjb9jnokhI=\" type=\"audio/wav\" />\n                    Your browser does not support the audio element.\n                </audio>\n              "
     },
     "metadata": {},
     "output_type": "display_data"
    },
    {
     "name": "stdout",
     "output_type": "stream",
     "text": [
      "Loaded voice from E:\\RiderProjects\\ss14-tts-api/voices/tmp\\Voice19.pt\n",
      "speaker tmp\\Voice19.pt\n"
     ]
    },
    {
     "data": {
      "text/plain": "<IPython.lib.display.Audio object>",
      "text/html": "\n                <audio  controls=\"controls\" >\n                    <source src=\"data:audio/wav;base64,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\" type=\"audio/wav\" />\n                    Your browser does not support the audio element.\n                </audio>\n              "
     },
     "metadata": {},
     "output_type": "display_data"
    },
    {
     "name": "stdout",
     "output_type": "stream",
     "text": [
      "Loaded voice from E:\\RiderProjects\\ss14-tts-api/voices/tmp\\Voice2.pt\n",
      "speaker tmp\\Voice2.pt\n"
     ]
    },
    {
     "data": {
      "text/plain": "<IPython.lib.display.Audio object>",
      "text/html": "\n                <audio  controls=\"controls\" >\n                    <source src=\"data:audio/wav;base64,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\" type=\"audio/wav\" />\n                    Your browser does not support the audio element.\n                </audio>\n              "
     },
     "metadata": {},
     "output_type": "display_data"
    },
    {
     "name": "stdout",
     "output_type": "stream",
     "text": [
      "Loaded voice from E:\\RiderProjects\\ss14-tts-api/voices/tmp\\Voice3.pt\n",
      "speaker tmp\\Voice3.pt\n"
     ]
    },
    {
     "data": {
      "text/plain": "<IPython.lib.display.Audio object>",
      "text/html": "\n                <audio  controls=\"controls\" >\n                    <source src=\"data:audio/wav;base64,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\" type=\"audio/wav\" />\n                    Your browser does not support the audio element.\n                </audio>\n              "
     },
     "metadata": {},
     "output_type": "display_data"
    },
    {
     "name": "stdout",
     "output_type": "stream",
     "text": [
      "Loaded voice from E:\\RiderProjects\\ss14-tts-api/voices/tmp\\Voice4.pt\n",
      "speaker tmp\\Voice4.pt\n"
     ]
    },
    {
     "data": {
      "text/plain": "<IPython.lib.display.Audio object>",
      "text/html": "\n                <audio  controls=\"controls\" >\n                    <source src=\"data:audio/wav;base64,UklGRiwHAABXQVZFZm10IBAAAAABAAEAwF0AAIC7AAACABAAZGF0YQgHAAD29d7+Qvv3CQ4TVwlKB3n4xvOA9cLxAuXQ1XjTw+Ga8cH8aQRTALT7f/tb/dj6f/qk/R7/PgM+/F36yP2UAFQGzwuMCmwAsAbIBXQCTwsiDlIPUg9dBLj35/qC/kkHBg5YCGoD4P8F/Nv8XwF3/8oDXwNs+Qr7PP/C/Yv/9vnt8x316fNr9qb31/cV9ib3qPjV95f6ZPri+rn62vu+/Bf/JP86/4kA9Pze9wb0V/cm9+34MfU788/0c+3n8Mrwq/Ca9Sz1O/be93j5Ffyn/rr/aPp58vPwRu0r8q/3ofPK8bjvc+8D9Vv6qPvI/HH5ZPY89AH09/3BCAwKSQvmB3772P84BAUAawNiBV8Azf1N/7YCMAotDzoTOgxcDhsPxA3VEssPhwuhBZUB4f/xAbwCsAlXCAUEYwZ4BOgDsQvMDqMKyggzAqX8EwAIAEEBEAYKAaMCp/7y/AQBUAI3BDwEfQFdAEsDRgH0AD0CRgeJAPABdv3a9bD4cu8g8zz/TACa/mIHSgL3/+4EtgDeAqr/ZPgR+XD5ZvNO9FnvjPMl8lHu7O/S9bL7Nf1uAeT+1/5EAJ7/ngC0AS/62PeH+xH/ifxy+7b8s/fm9kv36fwwAxoOmxHjC9wISQM2AmoBmwRu/ggAOwBa+0L+Bf78AlAF7gTFCCEKXgsxDo8LHQmMCMcBWQBTAT4EEwbkBqQDYQHBA/39ugDnATX/ZwIPAw4FfwqCEAoRkQzNAyUCsQBs/ZT/bQDX/hj64Pld8vTxf/SY9JP9evyb+pz63ffI+Cn8Dfnx9cfwsO8o7pXt5vMR9Dn11Pbv91b3qPcF/HoC6AY4CsgLOQUyAQQB9QENBZALHgrDCbYGgAZYCPsJYg3TDdsLVQrVCAsFxwtRDq4OBAroB8EGyf3z/RX9Mv48Agv/tPnR9/v0w/Ug+m/5DPz+/Wz9Dvpq9DTzMfOZ9of1kfNb8Kryv/Xr9Yf4ivdO/ln/0gCXAUn8vf2V+Sn7l/tP/pf/eQK1AKn5jvrL+w3+ZP9HA4QE/gMiCm4MfQ1KEGAPIRDHCCwJ9A1oC64NjwUx/1L4H/dV+zL/lAZbCDEJFgjGBj4GxAWLCccFkABk+xX5+vnw+w7+uP0f+Mn3bfNF8sz3jv29/x4DigZDAb4AW/+r/40C9QR1Bb0HIASNAXID3QK+/jv4Svdt9jH17vWH/fsDmAWDBJH9IvbR98f54PyAAWz+8/OT6KDhBuJ66/jxLvVF9CbsP+LJ4WLjm+eN8Ifzn/S06+/n0Oii6CzxIPFc7S/rPum16AjpUuxN6Jbs1O386Sjtp+mW7sTyjPgQ/DD+OQF7/fH8b/qP98H3Rvtf/PP9h/xM9tL25fJ99ov9JQAKBgYGHgweDBUKIAzjDu8QNRDpEi4NXAlDC50LwgsbDJAKjwoZC5UJBg1+DyMVzBMwE0YWZhEhD7sPvg1KCXUNsA0xDOIHWgE1AVv8Evvz/N79RwC2AvsB4/0m/VD6E/py/Tf9v/04/fr3zu/n61Lqguu67dXv6O/x7kPuiPBW81jzcPje8D/zKvUE72bzlvGq71HteOtK51blhOZn5mTkLuUw7SXsb/Cd9Bj0AfXk9k36bvRD9cDzduyr8YrxFe8l72nvivGh9HX27Prt/wEBkgT0AKkCsgXLBYIKhgbGAoT69P0x/Rz4+ALJAaMIrA5RD2MSCRXzG4gfLiQNIUkcAiCwH+ccehoqGo8V0hOJEToNIhRjEzYYdRkxE40W+Rg+GeMb7CHZHwYhYiAMGO8ahBjLFN0XVQ3bDL4N3wdJB1QFKwTNAuMDOwFb+/v3dPuM8+/z7O8c5eLm2t1b2WPc5NcO0g3ZlNFp02rcutXw2bDVdNh52nnWyt6H3JjgOOWR4Y7khuGR4KHlteWT5zTsaevt7krpM+Vf6kTrne+69YvxW/Av8zfuo/UB9Tr93vst88/+RvSV+db+x/oKBo0BDwNyBjYHbRPFECMUOBeHEHocqCAXHyMjsSPoJK4nnicWKb0qwTI9N4k0tjdNN4c+dz4rPqJBnz+4QaM/vjrxOdU1QjW6MiAsZSigIz0jeiAfHOITAheXE6AOvBEZBvEFHgMzBSP6H/27+Bn8t/+r6aUGX+Fi/lnucOpO7jjfQfR0xTXybb985RPL+9EEzTzBjt+ItKfsE6VD9JiwnuPB5VmziAixqHQDob7g9YLNp+wr7ffkgwkM1GAdO98GJeny2yTcBIIV2imt9eU5SPOgMUoBexWVBS4Fxw5v/98TUfOeEm3y9A1v9g8MHvr3D3EDeAm/CA7+tRDW6bscm9gHIlfcpg8G+0zq7ycH0nBAB9HHPQrxMSliLV/9llc32B5TQtdGNqXuSBf6CYrzrDI90chaVuO1So330TKBAMUmHD5T6v9/jJo=\" type=\"audio/wav\" />\n                    Your browser does not support the audio element.\n                </audio>\n              "
     },
     "metadata": {},
     "output_type": "display_data"
    },
    {
     "name": "stdout",
     "output_type": "stream",
     "text": [
      "Loaded voice from E:\\RiderProjects\\ss14-tts-api/voices/tmp\\Voice5.pt\n",
      "speaker tmp\\Voice5.pt\n"
     ]
    },
    {
     "data": {
      "text/plain": "<IPython.lib.display.Audio object>",
      "text/html": "\n                <audio  controls=\"controls\" >\n                    <source src=\"data:audio/wav;base64,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\" type=\"audio/wav\" />\n                    Your browser does not support the audio element.\n                </audio>\n              "
     },
     "metadata": {},
     "output_type": "display_data"
    },
    {
     "name": "stdout",
     "output_type": "stream",
     "text": [
      "Loaded voice from E:\\RiderProjects\\ss14-tts-api/voices/tmp\\Voice6.pt\n",
      "speaker tmp\\Voice6.pt\n"
     ]
    },
    {
     "data": {
      "text/plain": "<IPython.lib.display.Audio object>",
      "text/html": "\n                <audio  controls=\"controls\" >\n                    <source src=\"data:audio/wav;base64,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\" type=\"audio/wav\" />\n                    Your browser does not support the audio element.\n                </audio>\n              "
     },
     "metadata": {},
     "output_type": "display_data"
    },
    {
     "name": "stdout",
     "output_type": "stream",
     "text": [
      "Loaded voice from E:\\RiderProjects\\ss14-tts-api/voices/tmp\\Voice7.pt\n",
      "speaker tmp\\Voice7.pt\n"
     ]
    },
    {
     "data": {
      "text/plain": "<IPython.lib.display.Audio object>",
      "text/html": "\n                <audio  controls=\"controls\" >\n                    <source src=\"data:audio/wav;base64,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\" type=\"audio/wav\" />\n                    Your browser does not support the audio element.\n                </audio>\n              "
     },
     "metadata": {},
     "output_type": "display_data"
    },
    {
     "name": "stdout",
     "output_type": "stream",
     "text": [
      "Loaded voice from E:\\RiderProjects\\ss14-tts-api/voices/tmp\\Voice8.pt\n",
      "speaker tmp\\Voice8.pt\n"
     ]
    },
    {
     "data": {
      "text/plain": "<IPython.lib.display.Audio object>",
      "text/html": "\n                <audio  controls=\"controls\" >\n                    <source src=\"data:audio/wav;base64,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\" type=\"audio/wav\" />\n                    Your browser does not support the audio element.\n                </audio>\n              "
     },
     "metadata": {},
     "output_type": "display_data"
    },
    {
     "name": "stdout",
     "output_type": "stream",
     "text": [
      "Loaded voice from E:\\RiderProjects\\ss14-tts-api/voices/tmp\\Voice9.pt\n",
      "speaker tmp\\Voice9.pt\n"
     ]
    },
    {
     "data": {
      "text/plain": "<IPython.lib.display.Audio object>",
      "text/html": "\n                <audio  controls=\"controls\" >\n                    <source src=\"data:audio/wav;base64,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\" type=\"audio/wav\" />\n                    Your browser does not support the audio element.\n                </audio>\n              "
     },
     "metadata": {},
     "output_type": "display_data"
    }
   ],
   "source": [
    "from ss14tts import model, speakers\n",
    "from IPython.display import Audio, display\n",
    "from src.SpeakerPatch import dynVoices\n",
    "import random, glob, os\n",
    "\n",
    "sample_rate = 24000\n",
    "example_text = [\"Съешь же ещё этих мягких французских булок, да выпей чаю.\",\n",
    "        \"Клоун, прекрати разбрасывать банановые кожурки офицерам под ноги!\",\n",
    "        \"Капитан, вы уверены что хотите назначить клоуна на должность главы персонала?\",\n",
    "        \"Эс Бэ! Тут человек в сером костюме, с тулбоксом и в маске! Помогите!!\"]\n",
    "for voiceFile in glob.glob(dynVoices+'/tmp/*.pt'):\n",
    "    audio = model.apply_tts(ssml_text='<speak><prosody rate=\"fast\">'+random.choice(example_text)+'</prosody></speak>', speaker=\"random\",voice_path=voiceFile,sample_rate=sample_rate)\n",
    "    speaker = os.path.relpath(voiceFile,dynVoices)\n",
    "    print('speaker {}'.format(speaker))\n",
    "    display(Audio(audio, rate=sample_rate))\n"
   ]
  },
  {
   "attachments": {},
   "cell_type": "markdown",
   "metadata": {},
   "source": [
    "Генератор голосов"
   ]
  },
  {
   "cell_type": "code",
   "execution_count": 1,
   "metadata": {
    "ExecuteTime": {
     "end_time": "2023-05-11T15:10:54.136400300Z",
     "start_time": "2023-05-11T15:10:07.738652700Z"
    }
   },
   "outputs": [
    {
     "name": "stdout",
     "output_type": "stream",
     "text": [
      "Start download silero models\n"
     ]
    },
    {
     "name": "stderr",
     "output_type": "stream",
     "text": [
      "100.0%\n"
     ]
    },
    {
     "name": "stdout",
     "output_type": "stream",
     "text": [
      "Generated new voice\n",
      "Saved generated voice to E:\\RiderProjects\\ss14-tts-api/voices/tmp/Voice1.pt\n",
      "E:\\RiderProjects\\ss14-tts-api/voices/tmp/Voice1.pt\n",
      "Generated new voice\n",
      "Saved generated voice to E:\\RiderProjects\\ss14-tts-api/voices/tmp/Voice2.pt\n",
      "E:\\RiderProjects\\ss14-tts-api/voices/tmp/Voice2.pt\n",
      "Generated new voice\n",
      "Saved generated voice to E:\\RiderProjects\\ss14-tts-api/voices/tmp/Voice3.pt\n",
      "E:\\RiderProjects\\ss14-tts-api/voices/tmp/Voice3.pt\n",
      "Generated new voice\n",
      "Saved generated voice to E:\\RiderProjects\\ss14-tts-api/voices/tmp/Voice4.pt\n",
      "E:\\RiderProjects\\ss14-tts-api/voices/tmp/Voice4.pt\n",
      "Generated new voice\n",
      "Saved generated voice to E:\\RiderProjects\\ss14-tts-api/voices/tmp/Voice5.pt\n",
      "E:\\RiderProjects\\ss14-tts-api/voices/tmp/Voice5.pt\n",
      "Generated new voice\n",
      "Saved generated voice to E:\\RiderProjects\\ss14-tts-api/voices/tmp/Voice6.pt\n",
      "E:\\RiderProjects\\ss14-tts-api/voices/tmp/Voice6.pt\n",
      "Generated new voice\n",
      "Saved generated voice to E:\\RiderProjects\\ss14-tts-api/voices/tmp/Voice7.pt\n",
      "E:\\RiderProjects\\ss14-tts-api/voices/tmp/Voice7.pt\n",
      "Generated new voice\n",
      "Saved generated voice to E:\\RiderProjects\\ss14-tts-api/voices/tmp/Voice8.pt\n",
      "E:\\RiderProjects\\ss14-tts-api/voices/tmp/Voice8.pt\n",
      "Generated new voice\n",
      "Saved generated voice to E:\\RiderProjects\\ss14-tts-api/voices/tmp/Voice9.pt\n",
      "E:\\RiderProjects\\ss14-tts-api/voices/tmp/Voice9.pt\n",
      "Generated new voice\n",
      "Saved generated voice to E:\\RiderProjects\\ss14-tts-api/voices/tmp/Voice10.pt\n",
      "E:\\RiderProjects\\ss14-tts-api/voices/tmp/Voice10.pt\n",
      "Generated new voice\n",
      "Saved generated voice to E:\\RiderProjects\\ss14-tts-api/voices/tmp/Voice11.pt\n",
      "E:\\RiderProjects\\ss14-tts-api/voices/tmp/Voice11.pt\n",
      "Generated new voice\n",
      "Saved generated voice to E:\\RiderProjects\\ss14-tts-api/voices/tmp/Voice12.pt\n",
      "E:\\RiderProjects\\ss14-tts-api/voices/tmp/Voice12.pt\n",
      "Generated new voice\n",
      "Saved generated voice to E:\\RiderProjects\\ss14-tts-api/voices/tmp/Voice13.pt\n",
      "E:\\RiderProjects\\ss14-tts-api/voices/tmp/Voice13.pt\n",
      "Generated new voice\n",
      "Saved generated voice to E:\\RiderProjects\\ss14-tts-api/voices/tmp/Voice14.pt\n",
      "E:\\RiderProjects\\ss14-tts-api/voices/tmp/Voice14.pt\n",
      "Generated new voice\n",
      "Saved generated voice to E:\\RiderProjects\\ss14-tts-api/voices/tmp/Voice15.pt\n",
      "E:\\RiderProjects\\ss14-tts-api/voices/tmp/Voice15.pt\n",
      "Generated new voice\n",
      "Saved generated voice to E:\\RiderProjects\\ss14-tts-api/voices/tmp/Voice16.pt\n",
      "E:\\RiderProjects\\ss14-tts-api/voices/tmp/Voice16.pt\n",
      "Generated new voice\n",
      "Saved generated voice to E:\\RiderProjects\\ss14-tts-api/voices/tmp/Voice17.pt\n",
      "E:\\RiderProjects\\ss14-tts-api/voices/tmp/Voice17.pt\n",
      "Generated new voice\n",
      "Saved generated voice to E:\\RiderProjects\\ss14-tts-api/voices/tmp/Voice18.pt\n",
      "E:\\RiderProjects\\ss14-tts-api/voices/tmp/Voice18.pt\n",
      "Generated new voice\n",
      "Saved generated voice to E:\\RiderProjects\\ss14-tts-api/voices/tmp/Voice19.pt\n",
      "E:\\RiderProjects\\ss14-tts-api/voices/tmp/Voice19.pt\n"
     ]
    }
   ],
   "source": [
    "from ss14tts import model\n",
    "from src.AutoGenerator import Generate\n",
    "\n",
    "for voiceFile in Generate(model,20):  # 20 голосов создает, голоса будет идти с 1\n",
    "    print(voiceFile)\n"
   ]
  },
  {
   "attachments": {},
   "cell_type": "markdown",
   "metadata": {},
   "source": [
    "Тестирование голосов"
   ]
  },
  {
   "cell_type": "code",
   "execution_count": null,
   "metadata": {},
   "outputs": [],
   "source": [
    "from ss14tts import model, speakers\n",
    "from IPython.display import Audio, display\n",
    "from src.SpeakerPatch import dynVoices\n",
    "import random, glob, os\n",
    "\n",
    "sample_rate = 24000\n",
    "example_text = [\"Съешь же ещё этих мягких французских булок, да выпей чаю.\",\n",
    "        \"Клоун, прекрати разбрасывать банановые кожурки офицерам под ноги!\",\n",
    "        \"Капитан, вы уверены что хотите назначить клоуна на должность главы персонала?\",\n",
    "        \"Эс Бэ! Тут человек в сером костюме, с тулбоксом и в маске! Помогите!!\"]\n",
    "\n",
    "for voiceFile in glob.glob(dynVoices+'/*.pt'):\n",
    "    speaker = os.path.relpath(voiceFile,dynVoices)\n",
    "    print('speaker {} with {}'.format(speaker, voiceFile))\n",
    "    for example in example_text:\n",
    "        audio = model.apply_tts(ssml_text='<speak><prosody rate=\"fast\">'+example+'</prosody></speak>', speaker=\"random\",voice_path=voiceFile,sample_rate=sample_rate)\n",
    "        display(Audio(audio, rate=sample_rate))\n"
   ]
  }
 ],
 "metadata": {
  "kernelspec": {
   "display_name": "Python 3.9.12 64-bit",
   "language": "python",
   "name": "python3"
  },
  "language_info": {
   "codemirror_mode": {
    "name": "ipython",
    "version": 3
   },
   "file_extension": ".py",
   "mimetype": "text/x-python",
   "name": "python",
   "nbconvert_exporter": "python",
   "pygments_lexer": "ipython3",
   "version": "3.9.13"
  },
  "orig_nbformat": 4,
  "vscode": {
   "interpreter": {
    "hash": "81794d4967e6c3204c66dcd87b604927b115b27c00565d3d43f05ba2f3a2cb0d"
   }
  }
 },
 "nbformat": 4,
 "nbformat_minor": 2
}
