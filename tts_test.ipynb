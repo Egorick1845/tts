{
 "cells": [
  {
   "attachments": {},
   "cell_type": "markdown",
   "metadata": {},
   "source": [
    "Установка зависимостей"
   ]
  },
  {
   "cell_type": "code",
   "execution_count": null,
   "metadata": {},
   "outputs": [],
   "source": [
    "!pip3.9 install -r ./requirements.txt --extra-index-url https://download.pytorch.org/whl/cu116"
   ]
  },
  {
   "attachments": {},
   "cell_type": "markdown",
   "metadata": {},
   "source": [
    "Прослушивание новых после генерации голосов"
   ]
  },
  {
   "cell_type": "code",
   "execution_count": null,
   "metadata": {},
   "outputs": [],
   "source": [
    "from ss14tts import model, speakers\n",
    "from IPython.display import Audio, display\n",
    "from src.SpeakerPatch import dynVoices\n",
    "import random, glob, os\n",
    "\n",
    "sample_rate = 24000\n",
    "example_text = [\"Съешь же ещё этих мягких французских булок, да выпей чаю.\",\n",
    "        \"Клоун, прекрати разбрасывать банановые кожурки офицерам под ноги!\",\n",
    "        \"Капитан, вы уверены что хотите назначить клоуна на должность главы персонала?\",\n",
    "        \"Эс Бэ! Тут человек в сером костюме, с тулбоксом и в маске! Помогите!!\"]\n",
    "for voiceFile in glob.glob(dynVoices+'/tmp/*.pt'):\n",
    "    audio = model.apply_tts(ssml_text='<speak><prosody rate=\"fast\">'+random.choice(example_text)+'</prosody></speak>', speaker=\"random\",voice_path=voiceFile,sample_rate=sample_rate)\n",
    "    speaker = os.path.relpath(voiceFile,dynVoices)\n",
    "    print('speaker {}'.format(speaker))\n",
    "    display(Audio(audio, rate=sample_rate))\n"
   ]
  },
  {
   "attachments": {},
   "cell_type": "markdown",
   "metadata": {},
   "source": [
    "Генератор голосов"
   ]
  },
  {
   "cell_type": "code",
   "execution_count": null,
   "outputs": [],
   "source": [
    "from ss14tts import model\n",
    "from src.AutoGenerator import Generate\n",
    "\n",
    "for voiceFile in Generate(model,20):  # 20 голосов создает, голоса будет идти с 1\n",
    "    print(voiceFile)\n"
   ],
   "metadata": {
    "collapsed": false
   }
  },
  {
   "attachments": {},
   "cell_type": "markdown",
   "metadata": {},
   "source": [
    "Тестирование голосов"
   ]
  },
  {
   "cell_type": "code",
   "execution_count": null,
   "metadata": {},
   "outputs": [],
   "source": [
    "from ss14tts import model, speakers\n",
    "from IPython.display import Audio, display\n",
    "from src.SpeakerPatch import dynVoices\n",
    "import random, glob, os\n",
    "\n",
    "sample_rate = 24000\n",
    "example_text = [\"Съешь же ещё этих мягких французских булок, да выпей чаю.\",\n",
    "        \"Клоун, прекрати разбрасывать банановые кожурки офицерам под ноги!\",\n",
    "        \"Капитан, вы уверены что хотите назначить клоуна на должность главы персонала?\",\n",
    "        \"Эс Бэ! Тут человек в сером костюме, с тулбоксом и в маске! Помогите!!\"]\n",
    "\n",
    "for voiceFile in glob.glob(dynVoices+'/*.pt'):\n",
    "    speaker = os.path.relpath(voiceFile,dynVoices)\n",
    "    print('speaker {} with {}'.format(speaker, voiceFile))\n",
    "    for example in example_text:\n",
    "        audio = model.apply_tts(ssml_text='<speak><prosody rate=\"fast\">'+example+'</prosody></speak>', speaker=\"random\",voice_path=voiceFile,sample_rate=sample_rate)\n",
    "        display(Audio(audio, rate=sample_rate))\n"
   ]
  }
 ],
 "metadata": {
  "kernelspec": {
   "display_name": "Python 3.9.12 64-bit",
   "language": "python",
   "name": "python3"
  },
  "language_info": {
   "codemirror_mode": {
    "name": "ipython",
    "version": 3
   },
   "file_extension": ".py",
   "mimetype": "text/x-python",
   "name": "python",
   "nbconvert_exporter": "python",
   "pygments_lexer": "ipython3",
   "version": "3.9.13"
  },
  "orig_nbformat": 4,
  "vscode": {
   "interpreter": {
    "hash": "81794d4967e6c3204c66dcd87b604927b115b27c00565d3d43f05ba2f3a2cb0d"
   }
  }
 },
 "nbformat": 4,
 "nbformat_minor": 2
}
